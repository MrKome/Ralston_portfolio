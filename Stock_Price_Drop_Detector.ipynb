{
  "nbformat": 4,
  "nbformat_minor": 0,
  "metadata": {
    "colab": {
      "provenance": [],
      "authorship_tag": "ABX9TyMiH/5IfryeENnh09BLDxTC",
      "include_colab_link": true
    },
    "kernelspec": {
      "name": "python3",
      "display_name": "Python 3"
    },
    "language_info": {
      "name": "python"
    }
  },
  "cells": [
    {
      "cell_type": "markdown",
      "metadata": {
        "id": "view-in-github",
        "colab_type": "text"
      },
      "source": [
        "<a href=\"https://colab.research.google.com/github/MrKome/Ralston_portfolio/blob/main/Stock_Price_Drop_Detector.ipynb\" target=\"_parent\"><img src=\"https://colab.research.google.com/assets/colab-badge.svg\" alt=\"Open In Colab\"/></a>"
      ]
    },
    {
      "cell_type": "code",
      "execution_count": null,
      "metadata": {
        "id": "_gP3IerWNf2I"
      },
      "outputs": [],
      "source": [
        "# Import the necessary libraries\n",
        "import pandas as pd\n",
        "from datetime import datetime"
      ]
    },
    {
      "cell_type": "code",
      "source": [
        "# Create a function to get the days between two dates\n",
        "def get_date_diff(start_date, end_date):\n",
        "  start_date = datetime.strptime(start_date, '%d/%m/%Y').date()\n",
        "  end_date = datetime.strptime(end_date, '%d/%m/%Y').date()\n",
        "  delta = end_date - start_date\n",
        "  return delta.days"
      ],
      "metadata": {
        "id": "s7uiEc69WEg4"
      },
      "execution_count": null,
      "outputs": []
    },
    {
      "cell_type": "code",
      "source": [
        "# Create a fucntion that can detect the significant price drops\n",
        "def detect_significant_price_drops(stock_data, threshold = 0.1): #NOTE: if threshold = 0.1, this means it is\n",
        "  #Calculate the percentage change in the stock price\n",
        "  percentage_change = stock_data['Close'].pct_change()\n",
        "\n",
        "  #Identify significant price drops\n",
        "  significant_price_drops = percentage_change[percentage_change < -threshold]\n",
        "\n",
        "  #Return the data containing significant price drops\n",
        "  return significant_price_drops\n"
      ],
      "metadata": {
        "id": "OBgXWQNgYQyg"
      },
      "execution_count": null,
      "outputs": []
    },
    {
      "cell_type": "code",
      "source": [
        "# Get the stock data\n",
        "stock_data = pd.read_csv('stock_prices.csv', index_col= 'Date')\n",
        "#Show the stock data\n",
        "stock_data"
      ],
      "metadata": {
        "colab": {
          "base_uri": "https://localhost:8080/",
          "height": 455
        },
        "id": "_09Nwse9aQZY",
        "outputId": "03f28ed7-d6f2-4414-adfa-7d61cf566260"
      },
      "execution_count": null,
      "outputs": [
        {
          "output_type": "execute_result",
          "data": {
            "text/plain": [
              "                Open      High       Low     Close  Adj Close    Volume\n",
              "Date                                                                   \n",
              "13/11/2013   17.3700   17.8110   17.2840   17.8110    17.8110  55466780\n",
              "14/11/2013   17.8695   18.4470   17.8215   18.3698    18.3698  83195060\n",
              "15/11/2013   18.3815   18.6450   18.2775   18.4585    18.4585  89831500\n",
              "18/11/2013   18.5140   18.6745   18.2335   18.3090    18.3090  54734100\n",
              "19/11/2013   18.2910   18.4390   18.1250   18.2470    18.2470  38027940\n",
              "...              ...       ...       ...       ...        ...       ...\n",
              "06/11/2023  138.7600  140.7300  138.3600  139.7400   139.7400  44970420\n",
              "07/11/2023  140.5500  143.3700  140.5000  142.7100   142.7100  53553540\n",
              "08/11/2023  142.9700  143.1200  141.2183  142.0800   142.0800  44521660\n",
              "09/11/2023  142.0200  142.6500  139.8400  140.6000   140.6000  36235370\n",
              "10/11/2023  140.4600  143.6500  139.9100  143.5600   143.5600  49349940\n",
              "\n",
              "[2516 rows x 6 columns]"
            ],
            "text/html": [
              "\n",
              "  <div id=\"df-57f374d5-a762-4088-8ffd-93144f3a9f5d\" class=\"colab-df-container\">\n",
              "    <div>\n",
              "<style scoped>\n",
              "    .dataframe tbody tr th:only-of-type {\n",
              "        vertical-align: middle;\n",
              "    }\n",
              "\n",
              "    .dataframe tbody tr th {\n",
              "        vertical-align: top;\n",
              "    }\n",
              "\n",
              "    .dataframe thead th {\n",
              "        text-align: right;\n",
              "    }\n",
              "</style>\n",
              "<table border=\"1\" class=\"dataframe\">\n",
              "  <thead>\n",
              "    <tr style=\"text-align: right;\">\n",
              "      <th></th>\n",
              "      <th>Open</th>\n",
              "      <th>High</th>\n",
              "      <th>Low</th>\n",
              "      <th>Close</th>\n",
              "      <th>Adj Close</th>\n",
              "      <th>Volume</th>\n",
              "    </tr>\n",
              "    <tr>\n",
              "      <th>Date</th>\n",
              "      <th></th>\n",
              "      <th></th>\n",
              "      <th></th>\n",
              "      <th></th>\n",
              "      <th></th>\n",
              "      <th></th>\n",
              "    </tr>\n",
              "  </thead>\n",
              "  <tbody>\n",
              "    <tr>\n",
              "      <th>13/11/2013</th>\n",
              "      <td>17.3700</td>\n",
              "      <td>17.8110</td>\n",
              "      <td>17.2840</td>\n",
              "      <td>17.8110</td>\n",
              "      <td>17.8110</td>\n",
              "      <td>55466780</td>\n",
              "    </tr>\n",
              "    <tr>\n",
              "      <th>14/11/2013</th>\n",
              "      <td>17.8695</td>\n",
              "      <td>18.4470</td>\n",
              "      <td>17.8215</td>\n",
              "      <td>18.3698</td>\n",
              "      <td>18.3698</td>\n",
              "      <td>83195060</td>\n",
              "    </tr>\n",
              "    <tr>\n",
              "      <th>15/11/2013</th>\n",
              "      <td>18.3815</td>\n",
              "      <td>18.6450</td>\n",
              "      <td>18.2775</td>\n",
              "      <td>18.4585</td>\n",
              "      <td>18.4585</td>\n",
              "      <td>89831500</td>\n",
              "    </tr>\n",
              "    <tr>\n",
              "      <th>18/11/2013</th>\n",
              "      <td>18.5140</td>\n",
              "      <td>18.6745</td>\n",
              "      <td>18.2335</td>\n",
              "      <td>18.3090</td>\n",
              "      <td>18.3090</td>\n",
              "      <td>54734100</td>\n",
              "    </tr>\n",
              "    <tr>\n",
              "      <th>19/11/2013</th>\n",
              "      <td>18.2910</td>\n",
              "      <td>18.4390</td>\n",
              "      <td>18.1250</td>\n",
              "      <td>18.2470</td>\n",
              "      <td>18.2470</td>\n",
              "      <td>38027940</td>\n",
              "    </tr>\n",
              "    <tr>\n",
              "      <th>...</th>\n",
              "      <td>...</td>\n",
              "      <td>...</td>\n",
              "      <td>...</td>\n",
              "      <td>...</td>\n",
              "      <td>...</td>\n",
              "      <td>...</td>\n",
              "    </tr>\n",
              "    <tr>\n",
              "      <th>06/11/2023</th>\n",
              "      <td>138.7600</td>\n",
              "      <td>140.7300</td>\n",
              "      <td>138.3600</td>\n",
              "      <td>139.7400</td>\n",
              "      <td>139.7400</td>\n",
              "      <td>44970420</td>\n",
              "    </tr>\n",
              "    <tr>\n",
              "      <th>07/11/2023</th>\n",
              "      <td>140.5500</td>\n",
              "      <td>143.3700</td>\n",
              "      <td>140.5000</td>\n",
              "      <td>142.7100</td>\n",
              "      <td>142.7100</td>\n",
              "      <td>53553540</td>\n",
              "    </tr>\n",
              "    <tr>\n",
              "      <th>08/11/2023</th>\n",
              "      <td>142.9700</td>\n",
              "      <td>143.1200</td>\n",
              "      <td>141.2183</td>\n",
              "      <td>142.0800</td>\n",
              "      <td>142.0800</td>\n",
              "      <td>44521660</td>\n",
              "    </tr>\n",
              "    <tr>\n",
              "      <th>09/11/2023</th>\n",
              "      <td>142.0200</td>\n",
              "      <td>142.6500</td>\n",
              "      <td>139.8400</td>\n",
              "      <td>140.6000</td>\n",
              "      <td>140.6000</td>\n",
              "      <td>36235370</td>\n",
              "    </tr>\n",
              "    <tr>\n",
              "      <th>10/11/2023</th>\n",
              "      <td>140.4600</td>\n",
              "      <td>143.6500</td>\n",
              "      <td>139.9100</td>\n",
              "      <td>143.5600</td>\n",
              "      <td>143.5600</td>\n",
              "      <td>49349940</td>\n",
              "    </tr>\n",
              "  </tbody>\n",
              "</table>\n",
              "<p>2516 rows × 6 columns</p>\n",
              "</div>\n",
              "    <div class=\"colab-df-buttons\">\n",
              "\n",
              "  <div class=\"colab-df-container\">\n",
              "    <button class=\"colab-df-convert\" onclick=\"convertToInteractive('df-57f374d5-a762-4088-8ffd-93144f3a9f5d')\"\n",
              "            title=\"Convert this dataframe to an interactive table.\"\n",
              "            style=\"display:none;\">\n",
              "\n",
              "  <svg xmlns=\"http://www.w3.org/2000/svg\" height=\"24px\" viewBox=\"0 -960 960 960\">\n",
              "    <path d=\"M120-120v-720h720v720H120Zm60-500h600v-160H180v160Zm220 220h160v-160H400v160Zm0 220h160v-160H400v160ZM180-400h160v-160H180v160Zm440 0h160v-160H620v160ZM180-180h160v-160H180v160Zm440 0h160v-160H620v160Z\"/>\n",
              "  </svg>\n",
              "    </button>\n",
              "\n",
              "  <style>\n",
              "    .colab-df-container {\n",
              "      display:flex;\n",
              "      gap: 12px;\n",
              "    }\n",
              "\n",
              "    .colab-df-convert {\n",
              "      background-color: #E8F0FE;\n",
              "      border: none;\n",
              "      border-radius: 50%;\n",
              "      cursor: pointer;\n",
              "      display: none;\n",
              "      fill: #1967D2;\n",
              "      height: 32px;\n",
              "      padding: 0 0 0 0;\n",
              "      width: 32px;\n",
              "    }\n",
              "\n",
              "    .colab-df-convert:hover {\n",
              "      background-color: #E2EBFA;\n",
              "      box-shadow: 0px 1px 2px rgba(60, 64, 67, 0.3), 0px 1px 3px 1px rgba(60, 64, 67, 0.15);\n",
              "      fill: #174EA6;\n",
              "    }\n",
              "\n",
              "    .colab-df-buttons div {\n",
              "      margin-bottom: 4px;\n",
              "    }\n",
              "\n",
              "    [theme=dark] .colab-df-convert {\n",
              "      background-color: #3B4455;\n",
              "      fill: #D2E3FC;\n",
              "    }\n",
              "\n",
              "    [theme=dark] .colab-df-convert:hover {\n",
              "      background-color: #434B5C;\n",
              "      box-shadow: 0px 1px 3px 1px rgba(0, 0, 0, 0.15);\n",
              "      filter: drop-shadow(0px 1px 2px rgba(0, 0, 0, 0.3));\n",
              "      fill: #FFFFFF;\n",
              "    }\n",
              "  </style>\n",
              "\n",
              "    <script>\n",
              "      const buttonEl =\n",
              "        document.querySelector('#df-57f374d5-a762-4088-8ffd-93144f3a9f5d button.colab-df-convert');\n",
              "      buttonEl.style.display =\n",
              "        google.colab.kernel.accessAllowed ? 'block' : 'none';\n",
              "\n",
              "      async function convertToInteractive(key) {\n",
              "        const element = document.querySelector('#df-57f374d5-a762-4088-8ffd-93144f3a9f5d');\n",
              "        const dataTable =\n",
              "          await google.colab.kernel.invokeFunction('convertToInteractive',\n",
              "                                                    [key], {});\n",
              "        if (!dataTable) return;\n",
              "\n",
              "        const docLinkHtml = 'Like what you see? Visit the ' +\n",
              "          '<a target=\"_blank\" href=https://colab.research.google.com/notebooks/data_table.ipynb>data table notebook</a>'\n",
              "          + ' to learn more about interactive tables.';\n",
              "        element.innerHTML = '';\n",
              "        dataTable['output_type'] = 'display_data';\n",
              "        await google.colab.output.renderOutput(dataTable, element);\n",
              "        const docLink = document.createElement('div');\n",
              "        docLink.innerHTML = docLinkHtml;\n",
              "        element.appendChild(docLink);\n",
              "      }\n",
              "    </script>\n",
              "  </div>\n",
              "\n",
              "\n",
              "<div id=\"df-bc89de11-bbea-4bff-9063-b189c36e61e9\">\n",
              "  <button class=\"colab-df-quickchart\" onclick=\"quickchart('df-bc89de11-bbea-4bff-9063-b189c36e61e9')\"\n",
              "            title=\"Suggest charts\"\n",
              "            style=\"display:none;\">\n",
              "\n",
              "<svg xmlns=\"http://www.w3.org/2000/svg\" height=\"24px\"viewBox=\"0 0 24 24\"\n",
              "     width=\"24px\">\n",
              "    <g>\n",
              "        <path d=\"M19 3H5c-1.1 0-2 .9-2 2v14c0 1.1.9 2 2 2h14c1.1 0 2-.9 2-2V5c0-1.1-.9-2-2-2zM9 17H7v-7h2v7zm4 0h-2V7h2v10zm4 0h-2v-4h2v4z\"/>\n",
              "    </g>\n",
              "</svg>\n",
              "  </button>\n",
              "\n",
              "<style>\n",
              "  .colab-df-quickchart {\n",
              "      --bg-color: #E8F0FE;\n",
              "      --fill-color: #1967D2;\n",
              "      --hover-bg-color: #E2EBFA;\n",
              "      --hover-fill-color: #174EA6;\n",
              "      --disabled-fill-color: #AAA;\n",
              "      --disabled-bg-color: #DDD;\n",
              "  }\n",
              "\n",
              "  [theme=dark] .colab-df-quickchart {\n",
              "      --bg-color: #3B4455;\n",
              "      --fill-color: #D2E3FC;\n",
              "      --hover-bg-color: #434B5C;\n",
              "      --hover-fill-color: #FFFFFF;\n",
              "      --disabled-bg-color: #3B4455;\n",
              "      --disabled-fill-color: #666;\n",
              "  }\n",
              "\n",
              "  .colab-df-quickchart {\n",
              "    background-color: var(--bg-color);\n",
              "    border: none;\n",
              "    border-radius: 50%;\n",
              "    cursor: pointer;\n",
              "    display: none;\n",
              "    fill: var(--fill-color);\n",
              "    height: 32px;\n",
              "    padding: 0;\n",
              "    width: 32px;\n",
              "  }\n",
              "\n",
              "  .colab-df-quickchart:hover {\n",
              "    background-color: var(--hover-bg-color);\n",
              "    box-shadow: 0 1px 2px rgba(60, 64, 67, 0.3), 0 1px 3px 1px rgba(60, 64, 67, 0.15);\n",
              "    fill: var(--button-hover-fill-color);\n",
              "  }\n",
              "\n",
              "  .colab-df-quickchart-complete:disabled,\n",
              "  .colab-df-quickchart-complete:disabled:hover {\n",
              "    background-color: var(--disabled-bg-color);\n",
              "    fill: var(--disabled-fill-color);\n",
              "    box-shadow: none;\n",
              "  }\n",
              "\n",
              "  .colab-df-spinner {\n",
              "    border: 2px solid var(--fill-color);\n",
              "    border-color: transparent;\n",
              "    border-bottom-color: var(--fill-color);\n",
              "    animation:\n",
              "      spin 1s steps(1) infinite;\n",
              "  }\n",
              "\n",
              "  @keyframes spin {\n",
              "    0% {\n",
              "      border-color: transparent;\n",
              "      border-bottom-color: var(--fill-color);\n",
              "      border-left-color: var(--fill-color);\n",
              "    }\n",
              "    20% {\n",
              "      border-color: transparent;\n",
              "      border-left-color: var(--fill-color);\n",
              "      border-top-color: var(--fill-color);\n",
              "    }\n",
              "    30% {\n",
              "      border-color: transparent;\n",
              "      border-left-color: var(--fill-color);\n",
              "      border-top-color: var(--fill-color);\n",
              "      border-right-color: var(--fill-color);\n",
              "    }\n",
              "    40% {\n",
              "      border-color: transparent;\n",
              "      border-right-color: var(--fill-color);\n",
              "      border-top-color: var(--fill-color);\n",
              "    }\n",
              "    60% {\n",
              "      border-color: transparent;\n",
              "      border-right-color: var(--fill-color);\n",
              "    }\n",
              "    80% {\n",
              "      border-color: transparent;\n",
              "      border-right-color: var(--fill-color);\n",
              "      border-bottom-color: var(--fill-color);\n",
              "    }\n",
              "    90% {\n",
              "      border-color: transparent;\n",
              "      border-bottom-color: var(--fill-color);\n",
              "    }\n",
              "  }\n",
              "</style>\n",
              "\n",
              "  <script>\n",
              "    async function quickchart(key) {\n",
              "      const quickchartButtonEl =\n",
              "        document.querySelector('#' + key + ' button');\n",
              "      quickchartButtonEl.disabled = true;  // To prevent multiple clicks.\n",
              "      quickchartButtonEl.classList.add('colab-df-spinner');\n",
              "      try {\n",
              "        const charts = await google.colab.kernel.invokeFunction(\n",
              "            'suggestCharts', [key], {});\n",
              "      } catch (error) {\n",
              "        console.error('Error during call to suggestCharts:', error);\n",
              "      }\n",
              "      quickchartButtonEl.classList.remove('colab-df-spinner');\n",
              "      quickchartButtonEl.classList.add('colab-df-quickchart-complete');\n",
              "    }\n",
              "    (() => {\n",
              "      let quickchartButtonEl =\n",
              "        document.querySelector('#df-bc89de11-bbea-4bff-9063-b189c36e61e9 button');\n",
              "      quickchartButtonEl.style.display =\n",
              "        google.colab.kernel.accessAllowed ? 'block' : 'none';\n",
              "    })();\n",
              "  </script>\n",
              "</div>\n",
              "    </div>\n",
              "  </div>\n"
            ]
          },
          "metadata": {},
          "execution_count": 9
        }
      ]
    },
    {
      "cell_type": "code",
      "source": [
        " #Detect significant price drops\n",
        " significant_price_drops = detect_significant_price_drops(stock_data, threshold= 0.01)\n",
        " #Print significant price drops\n",
        " print(significant_price_drops)"
      ],
      "metadata": {
        "colab": {
          "base_uri": "https://localhost:8080/"
        },
        "id": "eG4Uu5VPoU-j",
        "outputId": "a62d8485-f551-488f-877d-ddb97bccce2b"
      },
      "execution_count": null,
      "outputs": [
        {
          "output_type": "stream",
          "name": "stdout",
          "text": [
            "Date\n",
            "03/12/2013   -0.019475\n",
            "11/12/2013   -0.014415\n",
            "27/12/2013   -0.015604\n",
            "30/12/2013   -0.011832\n",
            "13/01/2014   -0.016798\n",
            "                ...   \n",
            "18/10/2023   -0.025405\n",
            "20/10/2023   -0.025156\n",
            "25/10/2023   -0.055772\n",
            "26/10/2023   -0.014993\n",
            "09/11/2023   -0.010417\n",
            "Name: Close, Length: 559, dtype: float64\n"
          ]
        }
      ]
    },
    {
      "cell_type": "code",
      "source": [
        "# Get the number of days between each price drop\n",
        "NUM_DAYS_BETWEEN_PRICE_DROP = []\n",
        "price_drop_len = len(significant_price_drops.index)\n",
        "\n",
        "#Loop through the price drops\n",
        "for i in range(0, price_drop_len-1):\n",
        "  date_diff = get_date_diff(significant_price_drops.index[i], significant_price_drops.index[i+1])\n",
        "  NUM_DAYS_BETWEEN_PRICE_DROP.append(date_diff)\n",
        "\n",
        "# Print the NUM_DAYS_BETWEEN_PRICE_DROP\n",
        "print(NUM_DAYS_BETWEEN_PRICE_DROP)"
      ],
      "metadata": {
        "colab": {
          "base_uri": "https://localhost:8080/"
        },
        "id": "HozYQcxxtcqn",
        "outputId": "514198cc-5a2c-4a6b-a1b8-242cd0a15f8e"
      },
      "execution_count": null,
      "outputs": [
        {
          "output_type": "stream",
          "name": "stdout",
          "text": [
            "[8, 16, 3, 14, 10, 1, 5, 2, 3, 9, 6, 1, 28, 1, 1, 3, 2, 1, 7, 1, 3, 3, 1, 12, 2, 3, 8, 1, 1, 6, 19, 10, 7, 18, 1, 17, 3, 3, 1, 38, 1, 6, 2, 5, 3, 6, 6, 2, 1, 3, 3, 8, 12, 12, 14, 2, 2, 3, 2, 6, 8, 12, 1, 3, 3, 3, 33, 10, 7, 4, 38, 10, 1, 2, 15, 13, 7, 11, 4, 5, 5, 9, 15, 5, 9, 1, 13, 1, 3, 8, 2, 1, 10, 8, 3, 3, 1, 7, 2, 12, 23, 1, 11, 6, 3, 6, 2, 20, 4, 3, 6, 2, 12, 2, 3, 1, 1, 2, 3, 1, 9, 5, 13, 10, 1, 18, 2, 12, 3, 4, 1, 6, 2, 8, 4, 24, 7, 7, 3, 74, 4, 28, 6, 9, 2, 5, 2, 5, 1, 4, 14, 2, 12, 3, 15, 35, 46, 16, 7, 34, 23, 3, 3, 12, 2, 4, 25, 3, 10, 7, 19, 3, 10, 7, 23, 1, 4, 37, 2, 3, 25, 34, 4, 2, 1, 21, 18, 3, 1, 4, 1, 5, 4, 7, 7, 4, 21, 37, 4, 2, 6, 16, 7, 4, 16, 21, 1, 11, 4, 11, 2, 1, 3, 2, 1, 4, 3, 5, 1, 2, 3, 7, 4, 3, 2, 2, 3, 1, 14, 3, 7, 3, 2, 1, 1, 3, 10, 11, 8, 6, 1, 3, 5, 1, 1, 6, 20, 1, 15, 5, 28, 13, 6, 4, 6, 8, 3, 22, 30, 1, 3, 2, 2, 3, 4, 3, 2, 9, 24, 4, 4, 2, 6, 6, 10, 4, 3, 19, 19, 3, 25, 4, 11, 10, 3, 25, 3, 1, 2, 5, 2, 1, 3, 2, 1, 4, 4, 5, 2, 5, 16, 4, 6, 1, 3, 11, 9, 21, 13, 2, 11, 6, 2, 2, 4, 1, 1, 5, 6, 4, 4, 8, 8, 7, 1, 4, 2, 1, 5, 1, 1, 5, 9, 4, 8, 2, 3, 9, 2, 3, 7, 1, 29, 9, 12, 5, 2, 5, 3, 13, 7, 16, 3, 2, 1, 5, 1, 5, 10, 6, 1, 20, 6, 2, 11, 1, 1, 5, 2, 6, 3, 6, 7, 21, 1, 18, 2, 1, 11, 3, 18, 1, 22, 11, 8, 6, 7, 11, 7, 3, 9, 12, 4, 4, 1, 2, 6, 1, 3, 3, 4, 11, 4, 1, 8, 5, 1, 1, 1, 4, 9, 7, 1, 6, 1, 4, 1, 6, 2, 1, 3, 1, 6, 16, 1, 5, 1, 2, 3, 3, 6, 1, 1, 4, 3, 6, 1, 3, 2, 5, 2, 6, 10, 4, 1, 1, 1, 3, 1, 2, 11, 1, 2, 11, 1, 10, 3, 1, 10, 4, 2, 6, 2, 3, 4, 5, 6, 7, 2, 1, 4, 1, 1, 1, 6, 1, 7, 4, 3, 5, 7, 1, 1, 4, 1, 1, 6, 5, 2, 1, 4, 8, 2, 1, 3, 1, 3, 6, 4, 3, 5, 1, 8, 12, 2, 5, 6, 4, 3, 2, 1, 7, 5, 3, 5, 5, 3, 1, 7, 3, 2, 14, 6, 1, 13, 3, 3, 11, 7, 3, 3, 13, 9, 10, 10, 4, 10, 12, 1, 6, 1, 6, 1, 8, 13, 6, 3, 4, 1, 1, 5, 7, 10, 5, 2, 5, 1, 14]\n"
          ]
        }
      ]
    },
    {
      "cell_type": "code",
      "source": [
        "#Get the average date of significant drop\n",
        "average_days_drop = sum(NUM_DAYS_BETWEEN_PRICE_DROP) / len(NUM_DAYS_BETWEEN_PRICE_DROP)\n",
        "#Show the average days drop\n",
        "average_days_drop"
      ],
      "metadata": {
        "colab": {
          "base_uri": "https://localhost:8080/"
        },
        "id": "t6fR3ekjw28X",
        "outputId": "17631f03-3fc1-42a5-8379-500774de7a3f"
      },
      "execution_count": null,
      "outputs": [
        {
          "output_type": "execute_result",
          "data": {
            "text/plain": [
              "6.50179211469534"
            ]
          },
          "metadata": {},
          "execution_count": 19
        }
      ]
    },
    {
      "cell_type": "code",
      "source": [
        "#Get the mean of the significant price drop\n",
        "avg_price_drop = significant_price_drops.mean()\n",
        "# Show the average price drop\n",
        "avg_price_drop"
      ],
      "metadata": {
        "colab": {
          "base_uri": "https://localhost:8080/"
        },
        "id": "3qDtAoc5zI1m",
        "outputId": "10f5b9c2-77e6-4039-f992-76c2a01b0efa"
      },
      "execution_count": null,
      "outputs": [
        {
          "output_type": "execute_result",
          "data": {
            "text/plain": [
              "-0.024804818884094654"
            ]
          },
          "metadata": {},
          "execution_count": 20
        }
      ]
    },
    {
      "cell_type": "code",
      "source": [
        "print('You can expect an average drop of', round(avg_price_drop * 100, 2), '% about every', round(average_days_drop, 0), 'day(s), given the threshold.')\n",
        "print('This threshold was met', len(significant_price_drops), 'out of', len(stock_data), 'time.')\n",
        "print('The biggest drop was', significant_price_drops.min()*100, '%')"
      ],
      "metadata": {
        "colab": {
          "base_uri": "https://localhost:8080/"
        },
        "id": "Zg-jVqIwzsrs",
        "outputId": "bd4b2dfd-6586-47f0-cb86-0219fe17ff66"
      },
      "execution_count": null,
      "outputs": [
        {
          "output_type": "stream",
          "name": "stdout",
          "text": [
            "You can expect an average drop of -2.48 % about every 7.0 day(s), given the threshold.\n",
            "This threshold was met 559 out of 2516 time.\n",
            "The biggest drop was -14.049441030730348 %\n"
          ]
        }
      ]
    },
    {
      "cell_type": "code",
      "source": [],
      "metadata": {
        "id": "mYswjyqU3g6c"
      },
      "execution_count": null,
      "outputs": []
    }
  ]
}